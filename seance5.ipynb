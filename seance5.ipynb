{
 "cells": [
  {
   "cell_type": "markdown",
   "metadata": {},
   "source": [
    "Ex1:\n",
    "    \n",
    "1. Ecrire une fonction qui prend en entrée une fonction f et des réels a et h et donne en sortie le taux de variation (ou d'accroissement) de la fonction f entre le point d'abscisse a+h et a.\n",
    "2. Tester avec f(x)=3x^3+1x^2-5"
   ]
  },
  {
   "cell_type": "code",
   "execution_count": 7,
   "metadata": {},
   "outputs": [
    {
     "output_type": "execute_result",
     "data": {
      "text/plain": [
       "11.100300000000018"
      ]
     },
     "metadata": {},
     "execution_count": 7
    }
   ],
   "source": [
    "def f(x):\n",
    "    return 3*x**3 + x**2 - 5 \n",
    "\n",
    "def variation(f, a, h):\n",
    "    if (h != 0) :\n",
    "        return (f(a+h) - f(a))/h\n",
    "    else:\n",
    "        print(\"h doit être != 0\")\n",
    "\n",
    "variation(f, 1, 0.01)"
   ]
  },
  {
   "cell_type": "markdown",
   "metadata": {},
   "source": [
    "Ex2:  \n",
    "1. Ecrire une fonction qui calcule la liste des coefficients directeurs pour une fonction f définit sur I=[a;b] avec un pas \"p\"  \n",
    "2. Tester avec f(x)=(1+x)/(x-4) définit sur I=[0,1] avec un pas de 0.01"
   ]
  },
  {
   "cell_type": "code",
   "execution_count": 4,
   "metadata": {},
   "outputs": [
    {
     "output_type": "execute_result",
     "data": {
      "text/plain": [
       "[-0.41666666666666663,\n",
       " -0.4177109440267335,\n",
       " -0.41876046901172526,\n",
       " -0.4198152812762384,\n",
       " -0.42087542087542085,\n",
       " -0.4219409282700422,\n",
       " -0.42301184433164124,\n",
       " -0.42408821034775235,\n",
       " -0.4251700680272108,\n",
       " -0.4262574595055413,\n",
       " -0.4273504273504272,\n",
       " -0.42844901456726653,\n",
       " -0.42955326460481097,\n",
       " -0.4306632213608958,\n",
       " -0.43177892918825556,\n",
       " -0.4329004329004329,\n",
       " -0.4340277777777778,\n",
       " -0.4351610095735422,\n",
       " -0.4363001745200698,\n",
       " -0.4374453193350831,\n",
       " -0.4385964912280702,\n",
       " -0.4397537379067722,\n",
       " -0.4409171075837743,\n",
       " -0.4420866489832007,\n",
       " -0.4432624113475177,\n",
       " -0.4444444444444444,\n",
       " -0.445632798573975,\n",
       " -0.4468275245755138,\n",
       " -0.4480286738351254,\n",
       " -0.449236298292902,\n",
       " -0.4504504504504504,\n",
       " -0.4516711833785004,\n",
       " -0.45289855072463764,\n",
       " -0.4541326067211625,\n",
       " -0.4553734061930782,\n",
       " -0.45662100456621,\n",
       " -0.4578754578754578,\n",
       " -0.45913682277318635,\n",
       " -0.4604051565377531,\n",
       " -0.4616805170821791,\n",
       " -0.4629629629629629,\n",
       " -0.4642525533890436,\n",
       " -0.4655493482309124,\n",
       " -0.46685340802987857,\n",
       " -0.46816479400749056,\n",
       " -0.4694835680751173,\n",
       " -0.47080979284369107,\n",
       " -0.47214353163361655,\n",
       " -0.47348484848484834,\n",
       " -0.47483380816714144,\n",
       " -0.47619047619047616,\n",
       " -0.4775549188156638,\n",
       " -0.478927203065134,\n",
       " -0.4803073967339096,\n",
       " -0.48169556840077077,\n",
       " -0.4830917874396135,\n",
       " -0.48449612403100767,\n",
       " -0.4859086491739552,\n",
       " -0.4873294346978558,\n",
       " -0.4887585532746822,\n",
       " -0.4901960784313724,\n",
       " -0.49164208456243846,\n",
       " -0.4930966469428008,\n",
       " -0.49455984174085055,\n",
       " -0.4960317460317458,\n",
       " -0.4975124378109453,\n",
       " -0.49900199600798406,\n",
       " -0.5005005005005005,\n",
       " -0.502008032128514,\n",
       " -0.5035246727089626,\n",
       " -0.5050505050505053,\n",
       " -0.5065856129685915,\n",
       " -0.5081300813008127,\n",
       " -0.5096839959225279,\n",
       " -0.5112474437627814,\n",
       " -0.5128205128205128,\n",
       " -0.5144032921810695,\n",
       " -0.5159958720330237,\n",
       " -0.5175983436853004,\n",
       " -0.519210799584631,\n",
       " -0.5208333333333327,\n",
       " -0.5224660397074187,\n",
       " -0.5241090146750526,\n",
       " -0.5257623554153519,\n",
       " -0.5274261603375522,\n",
       " -0.5291005291005291,\n",
       " -0.5307855626326967,\n",
       " -0.5324813631522891,\n",
       " -0.5341880341880338,\n",
       " -0.5359056806002145,\n",
       " -0.537634408602151,\n",
       " -0.5393743257820923,\n",
       " -0.5411255411255407,\n",
       " -0.5428881650380023,\n",
       " -0.5446623093681916,\n",
       " -0.5464480874316925,\n",
       " -0.548245614035087,\n",
       " -0.55005500550055,\n",
       " -0.5518763796909477,\n",
       " -0.5537098560354368]"
      ]
     },
     "metadata": {},
     "execution_count": 4
    }
   ],
   "source": [
    "def coef_direct(f, a, b, p):\n",
    "    i = a\n",
    "    l = []\n",
    "    while (i < b):\n",
    "        l.append( (f(b) - f(i)) / (b - i) )\n",
    "        i += p\n",
    "    return l \n",
    "\n",
    "def f(x):\n",
    "    return (1 + x) / (x - 4)\n",
    "    \n",
    "coef_direct(f, 0, 1, 0.01)\n",
    "\n"
   ]
  },
  {
   "cell_type": "markdown",
   "metadata": {},
   "source": [
    "Ex3:\n",
    "on considère une suite U définie par Un+1=Un+n+1 et de premier terme U0. Ecrire une fonction qui prend en entrée les valeurs de n et U0 et affiche la valeur de Un.\n",
    "1. De facon iterative\n",
    "2. Par recurence"
   ]
  },
  {
   "cell_type": "code",
   "execution_count": 13,
   "metadata": {},
   "outputs": [
    {
     "output_type": "stream",
     "name": "stdout",
     "text": [
      "iter_un(1) = 3\nrec_un(1) = 3\niter_un(2) = 6\nrec_un(2) = 6\niter_un(3) = 10\nrec_un(3) = 10\niter_un(4) = 15\nrec_un(4) = 15\niter_un(5) = 21\nrec_un(5) = 21\niter_un(6) = 28\nrec_un(6) = 28\niter_un(7) = 36\nrec_un(7) = 36\niter_un(8) = 45\nrec_un(8) = 45\niter_un(9) = 55\nrec_un(9) = 55\n"
     ]
    }
   ],
   "source": [
    "def iter_un(u0, n):\n",
    "    un = u0\n",
    "    for i in range(1, n+1):\n",
    "        un += i+1\n",
    "    return un\n",
    "\n",
    "def rec_un(u0, n):\n",
    "    if n == 0:\n",
    "        return u0\n",
    "    else:\n",
    "        return (rec_un(u0, n-1) + n + 1)\n",
    "\n",
    "for i in range(1,10):\n",
    "    print(\"iter_un(\",i,\") = \", iter_un(1, i), sep=\"\")\n",
    "    print(\"rec_un(\",i,\") = \", iter_un(1, i), sep=\"\")\n"
   ]
  },
  {
   "cell_type": "markdown",
   "metadata": {},
   "source": [
    "Ex4:\n",
    "On pose Tn=n^2−(n−1)^2 ainsi que Sn=T1+T2+T3+...+Tn.\n",
    "1. Etant donné n, afficher la valeur de Sn."
   ]
  },
  {
   "cell_type": "code",
   "execution_count": 18,
   "metadata": {},
   "outputs": [
    {
     "output_type": "stream",
     "name": "stdout",
     "text": [
      "T(1) = 1\nT(2) = 3\nT(3) = 5\nT(4) = 7\nT(5) = 9\n"
     ]
    },
    {
     "output_type": "execute_result",
     "data": {
      "text/plain": [
       "25"
      ]
     },
     "metadata": {},
     "execution_count": 18
    }
   ],
   "source": [
    "def T(n):\n",
    "    return n**2 - (n - 1)**2\n",
    "\n",
    "def S(n):\n",
    "    somme = 0\n",
    "    for i in range(1, n+1):\n",
    "        somme += T(i)\n",
    "    return somme\n",
    "\n",
    "for i in range(1,6):\n",
    "    print(\"T(\",i,\") = \", T(i), sep=\"\")\n",
    "\n",
    "S(5)"
   ]
  },
  {
   "source": [
    "Ex5:  \n",
    "Soit la suite définie par Un+1=0.5.Un et de premier terme U0. Plus la valeur de n augmente, plus les valeurs de Un se rapprochent de 0.  \n",
    "\n",
    "Ecrire une fonction qui permet de déterminer pour un réel positif e donné, quel est le plus petit entier n tel que la valeur de Un soit inférieure à e.  \n"
   ],
   "cell_type": "markdown",
   "metadata": {}
  },
  {
   "cell_type": "code",
   "execution_count": 23,
   "metadata": {},
   "outputs": [
    {
     "output_type": "execute_result",
     "data": {
      "text/plain": [
       "11"
      ]
     },
     "metadata": {},
     "execution_count": 23
    }
   ],
   "source": [
    "def u(u0, n):\n",
    "    return (1/2)**n * u0\n",
    "\n",
    "def plus_petit_n(u0, e):\n",
    "    i = 0\n",
    "    while (u(u0, i) > e):\n",
    "        i += 1\n",
    "    return i\n",
    "\n",
    "plus_petit_n(2048, 1)"
   ]
  },
  {
   "cell_type": "markdown",
   "metadata": {},
   "source": [
    "Ex6: Constante K de Catalan : https://fr.wikipedia.org/wiki/Constante_de_Catalan\n",
    "Ecrire une fonction qui permet de retourner une valeur approchée de la constante K et en s’arrêtant dès que la valeur absolue de la différence entre deux somme successives devienne inférieure ou égale à une erreur epsilon donnée en paramètre.\n",
    "\n"
   ]
  },
  {
   "cell_type": "code",
   "execution_count": 16,
   "metadata": {},
   "outputs": [
    {
     "output_type": "stream",
     "name": "stdout",
     "text": [
      "0.9159655942272132\n[2.2721324821617372e-10]\n"
     ]
    }
   ],
   "source": [
    "import math\n",
    "\n",
    "def u(n):\n",
    "    return (-1)**n / (2*n + 1)**2\n",
    "\n",
    "def approxim_K(e):\n",
    "    i = 0\n",
    "    next=u(i)\n",
    "    somme = next\n",
    "    while( math.fabs((next)) > e):\n",
    "        next = u(i+1)\n",
    "        somme += next\n",
    "        i += 1\n",
    "    # print(i)\n",
    "    return somme\n",
    "\n",
    "e = 1e-10\n",
    "a = approxim_K(e)\n",
    "print(a)\n",
    "\n",
    "approxim = 0.915965594\n",
    "print(\"[\", math.fabs(a-approxim), \"]\", sep=\"\")\n"
   ]
  },
  {
   "cell_type": "markdown",
   "metadata": {},
   "source": [
    "Ex 7:\n",
    "Ecrivez une fonction permettant de calculer la limite à epsilon près de la suite définie par la relation de récurrence :\n",
    "\n",
    "U0 =2\n",
    "Un+1= Un + 2/Un  , n>0.\n",
    "\n",
    "On arrête d’itérer quand l’intervalle entre 2 termes consécutifs devient strictement inférieur à epsilon."
   ]
  },
  {
   "cell_type": "code",
   "execution_count": 25,
   "metadata": {},
   "outputs": [
    {
     "output_type": "stream",
     "name": "stdout",
     "text": [
      "9999993223\nlim =  199999.93230845427\n"
     ]
    }
   ],
   "source": [
    "def lim_un(e):\n",
    "    i = 0\n",
    "    prev = 2\n",
    "    next = prev + 2/prev\n",
    "    while( (next - prev) > e ):\n",
    "        prev = next\n",
    "        next = prev + 2/prev\n",
    "        i += 1\n",
    "    print(i)\n",
    "    return next\n",
    "\n",
    "print(\"lim = \", lim_un(0.001)) # = infinity"
   ]
  }
 ],
 "metadata": {
  "kernelspec": {
   "name": "Python 3.8.1 64-bit",
   "display_name": "Python 3.8.1 64-bit",
   "metadata": {
    "interpreter": {
     "hash": "435fa732d06433dda852a0d17d881b7b9adbbe83c2c164a72d9893d088821735"
    }
   }
  },
  "language_info": {
   "codemirror_mode": {
    "name": "ipython",
    "version": 3
   },
   "file_extension": ".py",
   "mimetype": "text/x-python",
   "name": "python",
   "nbconvert_exporter": "python",
   "pygments_lexer": "ipython3",
   "version": "3.8.1-final"
  }
 },
 "nbformat": 4,
 "nbformat_minor": 4
}